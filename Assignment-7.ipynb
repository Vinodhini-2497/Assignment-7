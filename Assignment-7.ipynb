{
 "cells": [
  {
   "cell_type": "code",
   "execution_count": 1,
   "metadata": {},
   "outputs": [
    {
     "name": "stdout",
     "output_type": "stream",
     "text": [
      "Enter the value of user input  index array:3\n",
      "please enter the index of list value 0:1\n",
      "sum of array is  1\n",
      "please enter the index of list value 1:2\n",
      "sum of array is  3\n",
      "please enter the index of list value 2:3\n",
      "sum of array is  6\n"
     ]
    }
   ],
   "source": [
    "#find sum of array   \n",
    "import logging as lg\n",
    "import array\n",
    "lg.basicConfig(filename='arr1.log',level= lg.INFO, format='%(asctime)s - %(message)s')   \n",
    "try:\n",
    "    ar=[]\n",
    "    sum=0\n",
    "    n=int(input(\"Enter the value of user input  index array:\")) \n",
    "    for i in range(0,n):\n",
    "        value=int(input(\"please enter the index of list value %d:\"%i))\n",
    "        ar.append(value)\n",
    "        sum=sum+value\n",
    "        print(\"sum of array is \", sum)\n",
    "except IndexError as a:\n",
    "        lg.ERROR(a)"
   ]
  },
  {
   "cell_type": "code",
   "execution_count": 2,
   "metadata": {},
   "outputs": [
    {
     "name": "stdout",
     "output_type": "stream",
     "text": [
      "Enter the value of user input  index array:3\n",
      "please enter the index of list value 0:1\n",
      "sum of array is  1\n",
      "please enter the index of list value 1:2\n",
      "sum of array is  3\n",
      "please enter the index of list value 2:3\n",
      "sum of array is  6\n"
     ]
    },
    {
     "ename": "ModuleNotFoundError",
     "evalue": "No module named 'arr1.py'; 'arr1' is not a package",
     "output_type": "error",
     "traceback": [
      "\u001b[1;31m---------------------------------------------------------------------------\u001b[0m",
      "\u001b[1;31mModuleNotFoundError\u001b[0m                       Traceback (most recent call last)",
      "\u001b[1;32m<ipython-input-2-ec43a2ba0187>\u001b[0m in \u001b[0;36m<module>\u001b[1;34m\u001b[0m\n\u001b[0;32m      1\u001b[0m \u001b[1;31m#using the import file arr1.py for find sum of array\u001b[0m\u001b[1;33m\u001b[0m\u001b[1;33m\u001b[0m\u001b[1;33m\u001b[0m\u001b[0m\n\u001b[1;32m----> 2\u001b[1;33m \u001b[1;32mimport\u001b[0m \u001b[0marr1\u001b[0m\u001b[1;33m.\u001b[0m\u001b[0mpy\u001b[0m\u001b[1;33m\u001b[0m\u001b[1;33m\u001b[0m\u001b[0m\n\u001b[0m",
      "\u001b[1;31mModuleNotFoundError\u001b[0m: No module named 'arr1.py'; 'arr1' is not a package"
     ]
    }
   ],
   "source": [
    "#using the import file arr1.py for find sum of array\n",
    "import arr1.py"
   ]
  },
  {
   "cell_type": "code",
   "execution_count": 3,
   "metadata": {},
   "outputs": [
    {
     "name": "stdout",
     "output_type": "stream",
     "text": [
      "Largest number in array is: 67\n"
     ]
    }
   ],
   "source": [
    "#find the largest element in array\n",
    "import logging as lg\n",
    "import array\n",
    "lg.basicConfig(filename='arr2.log',level= lg.INFO,format='%(asctime)s - %(message)s') \n",
    "a=[2,45,67,3]\n",
    "large=a[0]\n",
    "for i in range(1,len(a)):\n",
    "    if a[i]>large:\n",
    "        large=a[i]\n",
    "print(\"Largest number in array is:\",large)"
   ]
  },
  {
   "cell_type": "code",
   "execution_count": 4,
   "metadata": {},
   "outputs": [
    {
     "name": "stdout",
     "output_type": "stream",
     "text": [
      "Largest number in array is: 67\n"
     ]
    },
    {
     "ename": "ModuleNotFoundError",
     "evalue": "No module named 'arr2.py'; 'arr2' is not a package",
     "output_type": "error",
     "traceback": [
      "\u001b[1;31m---------------------------------------------------------------------------\u001b[0m",
      "\u001b[1;31mModuleNotFoundError\u001b[0m                       Traceback (most recent call last)",
      "\u001b[1;32m<ipython-input-4-f46aa12a417c>\u001b[0m in \u001b[0;36m<module>\u001b[1;34m\u001b[0m\n\u001b[0;32m      1\u001b[0m \u001b[1;31m#import the module file arr2.py for find the largest element in array\u001b[0m\u001b[1;33m\u001b[0m\u001b[1;33m\u001b[0m\u001b[1;33m\u001b[0m\u001b[0m\n\u001b[1;32m----> 2\u001b[1;33m \u001b[1;32mimport\u001b[0m \u001b[0marr2\u001b[0m\u001b[1;33m.\u001b[0m\u001b[0mpy\u001b[0m\u001b[1;33m\u001b[0m\u001b[1;33m\u001b[0m\u001b[0m\n\u001b[0m",
      "\u001b[1;31mModuleNotFoundError\u001b[0m: No module named 'arr2.py'; 'arr2' is not a package"
     ]
    }
   ],
   "source": [
    "#import the module file arr2.py for find the largest element in array\n",
    "import arr2.py"
   ]
  },
  {
   "cell_type": "code",
   "execution_count": 5,
   "metadata": {},
   "outputs": [
    {
     "name": "stdout",
     "output_type": "stream",
     "text": [
      "before the iteration for left array [1, 2, 3, 4, 5]\n",
      "before the iteration for right array [1, 2, 3, 4, 5]\n",
      "after left rotation array is: [3, 4, 5, 1, 2]\n",
      "after right rotation array is: [4, 5, 1, 2, 3]\n"
     ]
    }
   ],
   "source": [
    "#array rotation\n",
    "import array\n",
    "import logging as l\n",
    "l.basicConfig(filename='arr3.log', level=l.INFO, format='%(asctime)s-%(message)s')\n",
    "al=[1,2,3,4,5]\n",
    "ar=[1,2,3,4,5]\n",
    "j=2#shift 2 in left\n",
    "k=2#shift 2 in right\n",
    "print(\"before the iteration for left array\",al)\n",
    "print(\"before the iteration for right array\",ar)\n",
    "def leftrotatearray(al,j):\n",
    "    for l in range(0,j):\n",
    "        temp=al[0]\n",
    "        for i in range(0,(len(al)-1)):\n",
    "            al[i]=al[i+1]\n",
    "        al[len(al)-1]=temp\n",
    "    return(al)\n",
    "\n",
    "def rightrotatearray(ar,k):\n",
    "    for m in range(0,k):\n",
    "        temp=ar[len(ar)-1]\n",
    "        for d in range(len(ar)-1,0,-1):\n",
    "            ar[d]=ar[d-1]\n",
    "        ar[0]=temp\n",
    "    return(ar)\n",
    "    \n",
    "#leftarray=leftrotatearray(a,j)\n",
    "#rightarray=rightrotatearray(a,k)\n",
    "print(\"after left rotation array is:\", leftrotatearray(al,j))\n",
    "print(\"after right rotation array is:\",rightrotatearray(ar,k))"
   ]
  },
  {
   "cell_type": "code",
   "execution_count": 6,
   "metadata": {},
   "outputs": [
    {
     "name": "stdout",
     "output_type": "stream",
     "text": [
      "before the iteration for left array [1, 2, 3, 4, 5]\n",
      "before the iteration for left array [1, 2, 3, 4, 5]\n",
      "after left rotation array is: [3, 4, 5, 1, 2]\n",
      "after right rotation array is: [4, 5, 1, 2, 3]\n"
     ]
    },
    {
     "ename": "ModuleNotFoundError",
     "evalue": "No module named 'arr3.py'; 'arr3' is not a package",
     "output_type": "error",
     "traceback": [
      "\u001b[1;31m---------------------------------------------------------------------------\u001b[0m",
      "\u001b[1;31mModuleNotFoundError\u001b[0m                       Traceback (most recent call last)",
      "\u001b[1;32m<ipython-input-6-d97bf2b6a70c>\u001b[0m in \u001b[0;36m<module>\u001b[1;34m\u001b[0m\n\u001b[0;32m      1\u001b[0m \u001b[1;31m#import arr3.py  module file for prgram of array rotation\u001b[0m\u001b[1;33m\u001b[0m\u001b[1;33m\u001b[0m\u001b[1;33m\u001b[0m\u001b[0m\n\u001b[1;32m----> 2\u001b[1;33m \u001b[1;32mimport\u001b[0m \u001b[0marr3\u001b[0m\u001b[1;33m.\u001b[0m\u001b[0mpy\u001b[0m\u001b[1;33m\u001b[0m\u001b[1;33m\u001b[0m\u001b[0m\n\u001b[0m",
      "\u001b[1;31mModuleNotFoundError\u001b[0m: No module named 'arr3.py'; 'arr3' is not a package"
     ]
    }
   ],
   "source": [
    "#import arr3.py  module file for prgram of array rotation\n",
    "import arr3.py"
   ]
  },
  {
   "cell_type": "code",
   "execution_count": 7,
   "metadata": {},
   "outputs": [
    {
     "name": "stdout",
     "output_type": "stream",
     "text": [
      "The original array [1, 2, 3, 4, 5]\n",
      "The spilt array of 2 indexes  [1]\n",
      "The spilt array of 2 indexes  [1, 2]\n",
      "The array after the spilt [3, 4, 5]\n",
      "The sum of array is: [3, 4, 5, 1, 2]\n"
     ]
    }
   ],
   "source": [
    "#Program to Split the array and add the first part to the end\n",
    "import array\n",
    "import logging as l\n",
    "l.basicConfig(filename='arr4.log', level=l.INFO, format='%(asctime)s-%(message)s')\n",
    "a=[1,2,3,4,5]\n",
    "a1=[]\n",
    "shift=2\n",
    "print(\"The original array\",a) \n",
    "\n",
    "for i in range(0,shift):\n",
    "    while(a[i]<=2):\n",
    "        temp=a[i]\n",
    "        a1.append(temp)\n",
    "        a.remove(a[i])\n",
    "        print(\"The spilt array of 2 indexes \", a1)\n",
    "print(\"The array after the spilt\",a) \n",
    "\n",
    "try:\n",
    "    sumofarray=[]\n",
    "    sumofarray=a+a1\n",
    "    print(\"The sum of array is:\",sumofarray)\n",
    "    \n",
    "except Exception as  e:\n",
    "    l.ERROR(e)\n"
   ]
  },
  {
   "cell_type": "code",
   "execution_count": 8,
   "metadata": {},
   "outputs": [
    {
     "name": "stdout",
     "output_type": "stream",
     "text": [
      "The original array [1, 2, 3, 4, 5]\n",
      "The spilt array of 2 indexes  [1]\n",
      "The spilt array of 2 indexes  [1, 2]\n",
      "The original array after the spilt [3, 4, 5]\n",
      "The sum of array is: [3, 4, 5, 1, 2]\n"
     ]
    },
    {
     "ename": "ModuleNotFoundError",
     "evalue": "No module named 'arr4.py'; 'arr4' is not a package",
     "output_type": "error",
     "traceback": [
      "\u001b[1;31m---------------------------------------------------------------------------\u001b[0m",
      "\u001b[1;31mModuleNotFoundError\u001b[0m                       Traceback (most recent call last)",
      "\u001b[1;32m<ipython-input-8-ea41db648963>\u001b[0m in \u001b[0;36m<module>\u001b[1;34m\u001b[0m\n\u001b[0;32m      1\u001b[0m \u001b[1;31m#import arr4.py module file for spilt the array and add the first part to the end program\u001b[0m\u001b[1;33m\u001b[0m\u001b[1;33m\u001b[0m\u001b[1;33m\u001b[0m\u001b[0m\n\u001b[1;32m----> 2\u001b[1;33m \u001b[1;32mimport\u001b[0m \u001b[0marr4\u001b[0m\u001b[1;33m.\u001b[0m\u001b[0mpy\u001b[0m\u001b[1;33m\u001b[0m\u001b[1;33m\u001b[0m\u001b[0m\n\u001b[0m",
      "\u001b[1;31mModuleNotFoundError\u001b[0m: No module named 'arr4.py'; 'arr4' is not a package"
     ]
    }
   ],
   "source": [
    "#import arr4.py module file for spilt the array and add the first part to the end program\n",
    "import arr4.py"
   ]
  },
  {
   "cell_type": "code",
   "execution_count": 9,
   "metadata": {},
   "outputs": [
    {
     "name": "stdout",
     "output_type": "stream",
     "text": [
      "('The given array is monotonic increasing', [1, 2, 3, 4, 5])\n",
      "('The given array is monotonic decreasing', [5, 4, 3, 2, 1])\n"
     ]
    }
   ],
   "source": [
    "#Program to check if given array is Monotonic\n",
    "\n",
    "import array\n",
    "import logging as l\n",
    "l.basicConfig(filename='arr5.log', level=l.INFO, format='%(asctime)s-%(message)s')\n",
    "def monoarr(a):\n",
    "    try:\n",
    "        for i in range(len(a)-1):\n",
    "            if a[i]<=a[i+1]:\n",
    "                return (\"The given array is monotonic increasing\",a)\n",
    "            else:\n",
    "                if a[i]>=a[i+1]:\n",
    "                    return (\"The given array is monotonic decreasing\",a)\n",
    "    except Exception as e:\n",
    "        return l.ERROR(e)  \n",
    "    \n",
    "    \n",
    "a=[1,2,3,4,5]\n",
    "b=[5,4,3,2,1]\n",
    "print(monoarr(a))\n",
    "print(monoarr(b))"
   ]
  },
  {
   "cell_type": "code",
   "execution_count": 10,
   "metadata": {},
   "outputs": [
    {
     "name": "stdout",
     "output_type": "stream",
     "text": [
      "('The given array is monotonic increasing', [1, 2, 3, 4, 5])\n",
      "('The given array is monnotonic decreasing', [5, 4, 3, 2, 1])\n"
     ]
    },
    {
     "ename": "ModuleNotFoundError",
     "evalue": "No module named 'arr5.py'; 'arr5' is not a package",
     "output_type": "error",
     "traceback": [
      "\u001b[1;31m---------------------------------------------------------------------------\u001b[0m",
      "\u001b[1;31mModuleNotFoundError\u001b[0m                       Traceback (most recent call last)",
      "\u001b[1;32m<ipython-input-10-4fe891150922>\u001b[0m in \u001b[0;36m<module>\u001b[1;34m\u001b[0m\n\u001b[0;32m      1\u001b[0m \u001b[1;31m#import arr5.py module file for to check if given array is monotonic\u001b[0m\u001b[1;33m\u001b[0m\u001b[1;33m\u001b[0m\u001b[1;33m\u001b[0m\u001b[0m\n\u001b[1;32m----> 2\u001b[1;33m \u001b[1;32mimport\u001b[0m \u001b[0marr5\u001b[0m\u001b[1;33m.\u001b[0m\u001b[0mpy\u001b[0m\u001b[1;33m\u001b[0m\u001b[1;33m\u001b[0m\u001b[0m\n\u001b[0m",
      "\u001b[1;31mModuleNotFoundError\u001b[0m: No module named 'arr5.py'; 'arr5' is not a package"
     ]
    }
   ],
   "source": [
    "#import arr5.py module file for to check if given array is monotonic\n",
    "import arr5.py"
   ]
  },
  {
   "cell_type": "code",
   "execution_count": null,
   "metadata": {},
   "outputs": [],
   "source": []
  }
 ],
 "metadata": {
  "kernelspec": {
   "display_name": "Python 3",
   "language": "python",
   "name": "python3"
  },
  "language_info": {
   "codemirror_mode": {
    "name": "ipython",
    "version": 3
   },
   "file_extension": ".py",
   "mimetype": "text/x-python",
   "name": "python",
   "nbconvert_exporter": "python",
   "pygments_lexer": "ipython3",
   "version": "3.8.5"
  }
 },
 "nbformat": 4,
 "nbformat_minor": 4
}
